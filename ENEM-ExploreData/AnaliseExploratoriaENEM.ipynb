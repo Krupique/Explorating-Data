{
 "cells": [
  {
   "cell_type": "markdown",
   "id": "003362d6-4d46-43fb-bc84-957bc9916249",
   "metadata": {},
   "source": [
    "# Análise exploratória dos Microdados do ENEM"
   ]
  },
  {
   "cell_type": "markdown",
   "id": "a59ef74a-0eb8-4ada-9ed6-8b1af399b222",
   "metadata": {},
   "source": [
    "O objetivos deste notebook é fazer uma análise exploratória dos dados do ENEM de 2020, fazer algumas perguntas e questionamentos e fazer obervações sobre a prova.<br/>\n",
    "Os dados foram obtidos no site do próprio governo brasileiro. Link: https://www.gov.br/inep/pt-br/acesso-a-informacao/dados-abertos/microdados/enem"
   ]
  },
  {
   "cell_type": "code",
   "execution_count": 1,
   "id": "822f5c60-6077-4720-b2f6-1395841a58e7",
   "metadata": {},
   "outputs": [],
   "source": [
    "import pandas as pd\n",
    "import matplotlib.pyplot as plt\n",
    "import seaborn as sns\n",
    "#Setando o tamanho padrão dos gráficos\n",
    "sns.set(rc={'figure.figsize':(12,8)})"
   ]
  },
  {
   "cell_type": "code",
   "execution_count": 2,
   "id": "e25c100f-b19b-43c2-b877-6fafdc93baf8",
   "metadata": {},
   "outputs": [],
   "source": [
    "dadosEnem = pd.read_csv('dados_brutos/DADOS/MICRODADOS_ENEM_2020.csv', sep=';', encoding = 'ISO-8859-1')"
   ]
  },
  {
   "cell_type": "code",
   "execution_count": 3,
   "id": "a4e352fb-10bc-47e0-82dc-d81a5ad3ca67",
   "metadata": {},
   "outputs": [
    {
     "data": {
      "text/plain": [
       "(5783109, 76)"
      ]
     },
     "execution_count": 3,
     "metadata": {},
     "output_type": "execute_result"
    }
   ],
   "source": [
    "dadosEnem.shape"
   ]
  },
  {
   "cell_type": "code",
   "execution_count": 4,
   "id": "cfb66607-167d-429f-a689-7ec2b28dfdf3",
   "metadata": {},
   "outputs": [
    {
     "data": {
      "text/html": [
       "<div>\n",
       "<style scoped>\n",
       "    .dataframe tbody tr th:only-of-type {\n",
       "        vertical-align: middle;\n",
       "    }\n",
       "\n",
       "    .dataframe tbody tr th {\n",
       "        vertical-align: top;\n",
       "    }\n",
       "\n",
       "    .dataframe thead th {\n",
       "        text-align: right;\n",
       "    }\n",
       "</style>\n",
       "<table border=\"1\" class=\"dataframe\">\n",
       "  <thead>\n",
       "    <tr style=\"text-align: right;\">\n",
       "      <th></th>\n",
       "      <th>NU_INSCRICAO</th>\n",
       "      <th>NU_ANO</th>\n",
       "      <th>TP_FAIXA_ETARIA</th>\n",
       "      <th>TP_SEXO</th>\n",
       "      <th>TP_ESTADO_CIVIL</th>\n",
       "      <th>TP_COR_RACA</th>\n",
       "      <th>TP_NACIONALIDADE</th>\n",
       "      <th>TP_ST_CONCLUSAO</th>\n",
       "      <th>TP_ANO_CONCLUIU</th>\n",
       "      <th>TP_ESCOLA</th>\n",
       "      <th>...</th>\n",
       "      <th>Q016</th>\n",
       "      <th>Q017</th>\n",
       "      <th>Q018</th>\n",
       "      <th>Q019</th>\n",
       "      <th>Q020</th>\n",
       "      <th>Q021</th>\n",
       "      <th>Q022</th>\n",
       "      <th>Q023</th>\n",
       "      <th>Q024</th>\n",
       "      <th>Q025</th>\n",
       "    </tr>\n",
       "  </thead>\n",
       "  <tbody>\n",
       "    <tr>\n",
       "      <th>0</th>\n",
       "      <td>200006271946</td>\n",
       "      <td>2020</td>\n",
       "      <td>11</td>\n",
       "      <td>F</td>\n",
       "      <td>1</td>\n",
       "      <td>2</td>\n",
       "      <td>1</td>\n",
       "      <td>1</td>\n",
       "      <td>11</td>\n",
       "      <td>1</td>\n",
       "      <td>...</td>\n",
       "      <td>NaN</td>\n",
       "      <td>NaN</td>\n",
       "      <td>NaN</td>\n",
       "      <td>NaN</td>\n",
       "      <td>NaN</td>\n",
       "      <td>NaN</td>\n",
       "      <td>NaN</td>\n",
       "      <td>NaN</td>\n",
       "      <td>NaN</td>\n",
       "      <td>NaN</td>\n",
       "    </tr>\n",
       "    <tr>\n",
       "      <th>1</th>\n",
       "      <td>200001195856</td>\n",
       "      <td>2020</td>\n",
       "      <td>11</td>\n",
       "      <td>M</td>\n",
       "      <td>2</td>\n",
       "      <td>3</td>\n",
       "      <td>1</td>\n",
       "      <td>1</td>\n",
       "      <td>11</td>\n",
       "      <td>1</td>\n",
       "      <td>...</td>\n",
       "      <td>NaN</td>\n",
       "      <td>NaN</td>\n",
       "      <td>NaN</td>\n",
       "      <td>NaN</td>\n",
       "      <td>NaN</td>\n",
       "      <td>NaN</td>\n",
       "      <td>NaN</td>\n",
       "      <td>NaN</td>\n",
       "      <td>NaN</td>\n",
       "      <td>NaN</td>\n",
       "    </tr>\n",
       "    <tr>\n",
       "      <th>2</th>\n",
       "      <td>200001943954</td>\n",
       "      <td>2020</td>\n",
       "      <td>4</td>\n",
       "      <td>F</td>\n",
       "      <td>2</td>\n",
       "      <td>3</td>\n",
       "      <td>2</td>\n",
       "      <td>2</td>\n",
       "      <td>0</td>\n",
       "      <td>2</td>\n",
       "      <td>...</td>\n",
       "      <td>B</td>\n",
       "      <td>A</td>\n",
       "      <td>A</td>\n",
       "      <td>B</td>\n",
       "      <td>A</td>\n",
       "      <td>A</td>\n",
       "      <td>A</td>\n",
       "      <td>A</td>\n",
       "      <td>A</td>\n",
       "      <td>A</td>\n",
       "    </tr>\n",
       "    <tr>\n",
       "      <th>3</th>\n",
       "      <td>200001908998</td>\n",
       "      <td>2020</td>\n",
       "      <td>2</td>\n",
       "      <td>M</td>\n",
       "      <td>1</td>\n",
       "      <td>3</td>\n",
       "      <td>1</td>\n",
       "      <td>2</td>\n",
       "      <td>0</td>\n",
       "      <td>2</td>\n",
       "      <td>...</td>\n",
       "      <td>NaN</td>\n",
       "      <td>NaN</td>\n",
       "      <td>NaN</td>\n",
       "      <td>NaN</td>\n",
       "      <td>NaN</td>\n",
       "      <td>NaN</td>\n",
       "      <td>NaN</td>\n",
       "      <td>NaN</td>\n",
       "      <td>NaN</td>\n",
       "      <td>NaN</td>\n",
       "    </tr>\n",
       "    <tr>\n",
       "      <th>4</th>\n",
       "      <td>200001634757</td>\n",
       "      <td>2020</td>\n",
       "      <td>4</td>\n",
       "      <td>F</td>\n",
       "      <td>1</td>\n",
       "      <td>3</td>\n",
       "      <td>2</td>\n",
       "      <td>1</td>\n",
       "      <td>1</td>\n",
       "      <td>1</td>\n",
       "      <td>...</td>\n",
       "      <td>A</td>\n",
       "      <td>A</td>\n",
       "      <td>A</td>\n",
       "      <td>B</td>\n",
       "      <td>A</td>\n",
       "      <td>B</td>\n",
       "      <td>B</td>\n",
       "      <td>A</td>\n",
       "      <td>A</td>\n",
       "      <td>B</td>\n",
       "    </tr>\n",
       "  </tbody>\n",
       "</table>\n",
       "<p>5 rows × 76 columns</p>\n",
       "</div>"
      ],
      "text/plain": [
       "   NU_INSCRICAO  NU_ANO  TP_FAIXA_ETARIA TP_SEXO  TP_ESTADO_CIVIL  \\\n",
       "0  200006271946    2020               11       F                1   \n",
       "1  200001195856    2020               11       M                2   \n",
       "2  200001943954    2020                4       F                2   \n",
       "3  200001908998    2020                2       M                1   \n",
       "4  200001634757    2020                4       F                1   \n",
       "\n",
       "   TP_COR_RACA  TP_NACIONALIDADE  TP_ST_CONCLUSAO  TP_ANO_CONCLUIU  TP_ESCOLA  \\\n",
       "0            2                 1                1               11          1   \n",
       "1            3                 1                1               11          1   \n",
       "2            3                 2                2                0          2   \n",
       "3            3                 1                2                0          2   \n",
       "4            3                 2                1                1          1   \n",
       "\n",
       "   ...  Q016  Q017  Q018 Q019  Q020 Q021  Q022  Q023  Q024  Q025  \n",
       "0  ...   NaN   NaN   NaN  NaN   NaN  NaN   NaN   NaN   NaN   NaN  \n",
       "1  ...   NaN   NaN   NaN  NaN   NaN  NaN   NaN   NaN   NaN   NaN  \n",
       "2  ...     B     A     A    B     A    A     A     A     A     A  \n",
       "3  ...   NaN   NaN   NaN  NaN   NaN  NaN   NaN   NaN   NaN   NaN  \n",
       "4  ...     A     A     A    B     A    B     B     A     A     B  \n",
       "\n",
       "[5 rows x 76 columns]"
      ]
     },
     "execution_count": 4,
     "metadata": {},
     "output_type": "execute_result"
    }
   ],
   "source": [
    "dadosEnem.head(5)"
   ]
  },
  {
   "cell_type": "code",
   "execution_count": 5,
   "id": "7fcb0159-4335-4811-8caa-63da1d4dd05e",
   "metadata": {},
   "outputs": [
    {
     "data": {
      "text/plain": [
       "array(['NU_INSCRICAO', 'NU_ANO', 'TP_FAIXA_ETARIA', 'TP_SEXO',\n",
       "       'TP_ESTADO_CIVIL', 'TP_COR_RACA', 'TP_NACIONALIDADE',\n",
       "       'TP_ST_CONCLUSAO', 'TP_ANO_CONCLUIU', 'TP_ESCOLA', 'TP_ENSINO',\n",
       "       'IN_TREINEIRO', 'CO_MUNICIPIO_ESC', 'NO_MUNICIPIO_ESC',\n",
       "       'CO_UF_ESC', 'SG_UF_ESC', 'TP_DEPENDENCIA_ADM_ESC',\n",
       "       'TP_LOCALIZACAO_ESC', 'TP_SIT_FUNC_ESC', 'CO_MUNICIPIO_PROVA',\n",
       "       'NO_MUNICIPIO_PROVA', 'CO_UF_PROVA', 'SG_UF_PROVA',\n",
       "       'TP_PRESENCA_CN', 'TP_PRESENCA_CH', 'TP_PRESENCA_LC',\n",
       "       'TP_PRESENCA_MT', 'CO_PROVA_CN', 'CO_PROVA_CH', 'CO_PROVA_LC',\n",
       "       'CO_PROVA_MT', 'NU_NOTA_CN', 'NU_NOTA_CH', 'NU_NOTA_LC',\n",
       "       'NU_NOTA_MT', 'TX_RESPOSTAS_CN', 'TX_RESPOSTAS_CH',\n",
       "       'TX_RESPOSTAS_LC', 'TX_RESPOSTAS_MT', 'TP_LINGUA',\n",
       "       'TX_GABARITO_CN', 'TX_GABARITO_CH', 'TX_GABARITO_LC',\n",
       "       'TX_GABARITO_MT', 'TP_STATUS_REDACAO', 'NU_NOTA_COMP1',\n",
       "       'NU_NOTA_COMP2', 'NU_NOTA_COMP3', 'NU_NOTA_COMP4', 'NU_NOTA_COMP5',\n",
       "       'NU_NOTA_REDACAO', 'Q001', 'Q002', 'Q003', 'Q004', 'Q005', 'Q006',\n",
       "       'Q007', 'Q008', 'Q009', 'Q010', 'Q011', 'Q012', 'Q013', 'Q014',\n",
       "       'Q015', 'Q016', 'Q017', 'Q018', 'Q019', 'Q020', 'Q021', 'Q022',\n",
       "       'Q023', 'Q024', 'Q025'], dtype=object)"
      ]
     },
     "execution_count": 5,
     "metadata": {},
     "output_type": "execute_result"
    }
   ],
   "source": [
    "dadosEnem.columns.values"
   ]
  },
  {
   "cell_type": "markdown",
   "id": "2c6d8090-07ea-4b19-8729-f9d34222094c",
   "metadata": {},
   "source": [
    "De acordo com a descrição no arquivo DICIONÁRIO/Dicionário_Microdados_Enem_2020 temos:\n",
    "* __Dados do participante:__ 'NU_INSCRICAO', 'NU_ANO', 'TP_FAIXA_ETARIA', 'TP_SEXO', 'TP_ESTADO_CIVIL', 'TP_COR_RACA', 'TP_NACIONALIDADE', 'TP_ST_CONCLUSAO', 'TP_ANO_CONCLUIU', 'TP_ESCOLA', 'TP_ENSINO', 'IN_TREINEIRO'\n",
    "* __Dados da escola:__ 'CO_MUNICIPIO_ESC', 'NO_MUNICIPIO_ESC', 'CO_UF_ESC', 'SG_UF_ESC', 'TP_DEPENDENCIA_ADM_ESC', 'TP_LOCALIZACAO_ESC', 'TP_SIT_FUNC_ESC'\n",
    "* __Dados do local da aplicação da prova:__  'CO_MUNICIPIO_PROVA', 'NO_MUNICIPIO_PROVA', 'CO_UF_PROVA', 'SG_UF_PROVA'\n",
    "* __Dados da prova objetiva:__ 'TP_PRESENCA_CN', 'TP_PRESENCA_CH', 'TP_PRESENCA_LC','TP_PRESENCA_MT', 'CO_PROVA_CN', 'CO_PROVA_CH', 'CO_PROVA_LC', 'CO_PROVA_MT', 'NU_NOTA_CN', 'NU_NOTA_CH', 'NU_NOTA_LC', 'NU_NOTA_MT', 'TX_RESPOSTAS_CN', 'TX_RESPOSTAS_CH', 'TX_RESPOSTAS_LC', 'TX_RESPOSTAS_MT', 'TP_LINGUA', 'TX_GABARITO_CN', 'TX_GABARITO_CH', 'TX_GABARITO_LC', 'TX_GABARITO_MT'\n",
    "* __Dados da redação:__ 'TP_STATUS_REDACAO', 'NU_NOTA_COMP1', 'NU_NOTA_COMP2', 'NU_NOTA_COMP3', 'NU_NOTA_COMP4', 'NU_NOTA_COMP5', 'NU_NOTA_REDACAO'\n",
    "* __dados do questionário socioeconômico:__ 'Q001', 'Q002', 'Q003', 'Q004', 'Q005', 'Q006', 'Q007', 'Q008', 'Q009', 'Q010', 'Q011', 'Q012', 'Q013', 'Q014', 'Q015', 'Q016', 'Q017', 'Q018', 'Q019', 'Q020', 'Q021', 'Q022', 'Q023', 'Q024', 'Q025'"
   ]
  },
  {
   "cell_type": "markdown",
   "id": "72846ed0-7e34-4962-8a70-823d795d43e8",
   "metadata": {},
   "source": [
    "__Teremos uma grande dificuldade com esses dados__\n",
    "O conjunto de dados é extremamente grande, com isso, basicamente qualquer consulta e operação vai demorar vários segundos. A melhor alternativa é reduzir o tamanho do dataframe selecionando somente as colunas/atributos relevantes para cada análise."
   ]
  },
  {
   "cell_type": "code",
   "execution_count": 6,
   "id": "07b58206-4cae-4417-b92e-0847055c8b42",
   "metadata": {},
   "outputs": [
    {
     "data": {
      "text/plain": [
       "NU_INSCRICAO           0\n",
       "NU_ANO                 0\n",
       "TP_FAIXA_ETARIA        0\n",
       "TP_SEXO                0\n",
       "TP_ESTADO_CIVIL        0\n",
       "                   ...  \n",
       "Q021               95966\n",
       "Q022               95966\n",
       "Q023               95966\n",
       "Q024               95966\n",
       "Q025               95966\n",
       "Length: 76, dtype: int64"
      ]
     },
     "execution_count": 6,
     "metadata": {},
     "output_type": "execute_result"
    }
   ],
   "source": [
    "dadosEnem.isnull().sum()"
   ]
  },
  {
   "cell_type": "code",
   "execution_count": 7,
   "id": "9823d079-9517-4038-be6e-f3d4d9fb0410",
   "metadata": {},
   "outputs": [],
   "source": [
    "colunasSelecionadas1 = ['NU_INSCRICAO', 'NU_ANO', 'TP_FAIXA_ETARIA', 'TP_SEXO',\n",
    "       'TP_ESTADO_CIVIL', 'TP_COR_RACA', 'TP_NACIONALIDADE',\n",
    "       'TP_ST_CONCLUSAO', 'TP_ANO_CONCLUIU', 'TP_ESCOLA', 'TP_ENSINO',\n",
    "       'IN_TREINEIRO', 'CO_MUNICIPIO_ESC', 'NO_MUNICIPIO_ESC',\n",
    "       'CO_UF_ESC', 'SG_UF_ESC', 'TP_DEPENDENCIA_ADM_ESC',\n",
    "       'TP_LOCALIZACAO_ESC', 'TP_SIT_FUNC_ESC', 'CO_MUNICIPIO_PROVA',\n",
    "       'NO_MUNICIPIO_PROVA', 'CO_UF_PROVA', 'SG_UF_PROVA',\n",
    "       'TP_PRESENCA_CN', 'TP_PRESENCA_CH', 'TP_PRESENCA_LC',\n",
    "       'TP_PRESENCA_MT', 'CO_PROVA_CN', 'CO_PROVA_CH', 'CO_PROVA_LC',\n",
    "       'CO_PROVA_MT', 'NU_NOTA_CN', 'NU_NOTA_CH', 'NU_NOTA_LC',\n",
    "       'NU_NOTA_MT', 'TX_RESPOSTAS_CN', 'TX_RESPOSTAS_CH',\n",
    "       'TX_RESPOSTAS_LC', 'TX_RESPOSTAS_MT', 'TP_LINGUA',\n",
    "       'TX_GABARITO_CN', 'TX_GABARITO_CH', 'TX_GABARITO_LC',\n",
    "       'TX_GABARITO_MT', 'TP_STATUS_REDACAO', 'NU_NOTA_COMP1',\n",
    "       'NU_NOTA_COMP2', 'NU_NOTA_COMP3', 'NU_NOTA_COMP4', 'NU_NOTA_COMP5',\n",
    "       'NU_NOTA_REDACAO']\n",
    "\n",
    "dfSelecionados1 = dadosEnem.filter(items=colunasSelecionadas1)"
   ]
  },
  {
   "cell_type": "markdown",
   "id": "92ebbe68-6c60-441a-8649-fec3a70f6931",
   "metadata": {},
   "source": [
    "#### Análise por dados do participante\n",
    "\n",
    "Como primeira análise, vamos olhar pela própria divisão do dicionário disponibilizado pelo governo. Vamos selecionar somente as colunas pertinentes para otimizar a performance do modelo."
   ]
  },
  {
   "cell_type": "code",
   "execution_count": 8,
   "id": "9c82226a-62be-42a7-aa9b-c87be1d653e9",
   "metadata": {},
   "outputs": [],
   "source": [
    "colSelecionados1 = ['NU_INSCRICAO', 'TP_FAIXA_ETARIA', 'TP_SEXO',\n",
    "       'TP_ESTADO_CIVIL', 'TP_COR_RACA', 'TP_NACIONALIDADE',\n",
    "       'TP_ST_CONCLUSAO', 'TP_ANO_CONCLUIU', 'TP_ESCOLA', 'TP_ENSINO',\n",
    "       'IN_TREINEIRO']\n",
    "\n",
    "dfParticipantes = dadosEnem.filter(items=colSelecionados1)"
   ]
  },
  {
   "cell_type": "code",
   "execution_count": 9,
   "id": "268ab217-e48e-46fd-9b20-6ec1c9a8d7f1",
   "metadata": {},
   "outputs": [
    {
     "data": {
      "text/plain": [
       "(5783109, 11)"
      ]
     },
     "execution_count": 9,
     "metadata": {},
     "output_type": "execute_result"
    }
   ],
   "source": [
    "dfParticipantes.shape"
   ]
  },
  {
   "cell_type": "code",
   "execution_count": 10,
   "id": "d04de848-3d4e-4646-9a2c-bd6fe6ca599e",
   "metadata": {},
   "outputs": [
    {
     "data": {
      "text/html": [
       "<div>\n",
       "<style scoped>\n",
       "    .dataframe tbody tr th:only-of-type {\n",
       "        vertical-align: middle;\n",
       "    }\n",
       "\n",
       "    .dataframe tbody tr th {\n",
       "        vertical-align: top;\n",
       "    }\n",
       "\n",
       "    .dataframe thead th {\n",
       "        text-align: right;\n",
       "    }\n",
       "</style>\n",
       "<table border=\"1\" class=\"dataframe\">\n",
       "  <thead>\n",
       "    <tr style=\"text-align: right;\">\n",
       "      <th></th>\n",
       "      <th>NU_INSCRICAO</th>\n",
       "      <th>TP_FAIXA_ETARIA</th>\n",
       "      <th>TP_SEXO</th>\n",
       "      <th>TP_ESTADO_CIVIL</th>\n",
       "      <th>TP_COR_RACA</th>\n",
       "      <th>TP_NACIONALIDADE</th>\n",
       "      <th>TP_ST_CONCLUSAO</th>\n",
       "      <th>TP_ANO_CONCLUIU</th>\n",
       "      <th>TP_ESCOLA</th>\n",
       "      <th>TP_ENSINO</th>\n",
       "      <th>IN_TREINEIRO</th>\n",
       "    </tr>\n",
       "  </thead>\n",
       "  <tbody>\n",
       "  </tbody>\n",
       "</table>\n",
       "</div>"
      ],
      "text/plain": [
       "Empty DataFrame\n",
       "Columns: [NU_INSCRICAO, TP_FAIXA_ETARIA, TP_SEXO, TP_ESTADO_CIVIL, TP_COR_RACA, TP_NACIONALIDADE, TP_ST_CONCLUSAO, TP_ANO_CONCLUIU, TP_ESCOLA, TP_ENSINO, IN_TREINEIRO]\n",
       "Index: []"
      ]
     },
     "execution_count": 10,
     "metadata": {},
     "output_type": "execute_result"
    }
   ],
   "source": [
    "#Verificando se há dados duplicados, como não há podemos exluir a coluna NU_INSCRICAO\n",
    "dfParticipantes[dfParticipantes.duplicated(['NU_INSCRICAO'],keep=False)]"
   ]
  },
  {
   "cell_type": "code",
   "execution_count": 11,
   "id": "e39885d4-0b88-4c88-aacb-3073d4b2f9ee",
   "metadata": {},
   "outputs": [
    {
     "data": {
      "text/html": [
       "<div>\n",
       "<style scoped>\n",
       "    .dataframe tbody tr th:only-of-type {\n",
       "        vertical-align: middle;\n",
       "    }\n",
       "\n",
       "    .dataframe tbody tr th {\n",
       "        vertical-align: top;\n",
       "    }\n",
       "\n",
       "    .dataframe thead th {\n",
       "        text-align: right;\n",
       "    }\n",
       "</style>\n",
       "<table border=\"1\" class=\"dataframe\">\n",
       "  <thead>\n",
       "    <tr style=\"text-align: right;\">\n",
       "      <th></th>\n",
       "      <th>TP_FAIXA_ETARIA</th>\n",
       "      <th>TP_SEXO</th>\n",
       "      <th>TP_ESTADO_CIVIL</th>\n",
       "      <th>TP_COR_RACA</th>\n",
       "      <th>TP_NACIONALIDADE</th>\n",
       "      <th>TP_ST_CONCLUSAO</th>\n",
       "      <th>TP_ANO_CONCLUIU</th>\n",
       "      <th>TP_ESCOLA</th>\n",
       "      <th>TP_ENSINO</th>\n",
       "      <th>IN_TREINEIRO</th>\n",
       "    </tr>\n",
       "  </thead>\n",
       "  <tbody>\n",
       "    <tr>\n",
       "      <th>0</th>\n",
       "      <td>11</td>\n",
       "      <td>F</td>\n",
       "      <td>1</td>\n",
       "      <td>2</td>\n",
       "      <td>1</td>\n",
       "      <td>1</td>\n",
       "      <td>11</td>\n",
       "      <td>1</td>\n",
       "      <td>NaN</td>\n",
       "      <td>0</td>\n",
       "    </tr>\n",
       "    <tr>\n",
       "      <th>1</th>\n",
       "      <td>11</td>\n",
       "      <td>M</td>\n",
       "      <td>2</td>\n",
       "      <td>3</td>\n",
       "      <td>1</td>\n",
       "      <td>1</td>\n",
       "      <td>11</td>\n",
       "      <td>1</td>\n",
       "      <td>NaN</td>\n",
       "      <td>0</td>\n",
       "    </tr>\n",
       "    <tr>\n",
       "      <th>2</th>\n",
       "      <td>4</td>\n",
       "      <td>F</td>\n",
       "      <td>2</td>\n",
       "      <td>3</td>\n",
       "      <td>2</td>\n",
       "      <td>2</td>\n",
       "      <td>0</td>\n",
       "      <td>2</td>\n",
       "      <td>1.0</td>\n",
       "      <td>0</td>\n",
       "    </tr>\n",
       "    <tr>\n",
       "      <th>3</th>\n",
       "      <td>2</td>\n",
       "      <td>M</td>\n",
       "      <td>1</td>\n",
       "      <td>3</td>\n",
       "      <td>1</td>\n",
       "      <td>2</td>\n",
       "      <td>0</td>\n",
       "      <td>2</td>\n",
       "      <td>1.0</td>\n",
       "      <td>0</td>\n",
       "    </tr>\n",
       "    <tr>\n",
       "      <th>4</th>\n",
       "      <td>4</td>\n",
       "      <td>F</td>\n",
       "      <td>1</td>\n",
       "      <td>3</td>\n",
       "      <td>2</td>\n",
       "      <td>1</td>\n",
       "      <td>1</td>\n",
       "      <td>1</td>\n",
       "      <td>NaN</td>\n",
       "      <td>0</td>\n",
       "    </tr>\n",
       "    <tr>\n",
       "      <th>...</th>\n",
       "      <td>...</td>\n",
       "      <td>...</td>\n",
       "      <td>...</td>\n",
       "      <td>...</td>\n",
       "      <td>...</td>\n",
       "      <td>...</td>\n",
       "      <td>...</td>\n",
       "      <td>...</td>\n",
       "      <td>...</td>\n",
       "      <td>...</td>\n",
       "    </tr>\n",
       "    <tr>\n",
       "      <th>5783104</th>\n",
       "      <td>2</td>\n",
       "      <td>F</td>\n",
       "      <td>1</td>\n",
       "      <td>1</td>\n",
       "      <td>1</td>\n",
       "      <td>2</td>\n",
       "      <td>0</td>\n",
       "      <td>2</td>\n",
       "      <td>1.0</td>\n",
       "      <td>0</td>\n",
       "    </tr>\n",
       "    <tr>\n",
       "      <th>5783105</th>\n",
       "      <td>3</td>\n",
       "      <td>M</td>\n",
       "      <td>1</td>\n",
       "      <td>1</td>\n",
       "      <td>1</td>\n",
       "      <td>2</td>\n",
       "      <td>0</td>\n",
       "      <td>2</td>\n",
       "      <td>1.0</td>\n",
       "      <td>0</td>\n",
       "    </tr>\n",
       "    <tr>\n",
       "      <th>5783106</th>\n",
       "      <td>3</td>\n",
       "      <td>F</td>\n",
       "      <td>1</td>\n",
       "      <td>1</td>\n",
       "      <td>1</td>\n",
       "      <td>1</td>\n",
       "      <td>1</td>\n",
       "      <td>1</td>\n",
       "      <td>NaN</td>\n",
       "      <td>0</td>\n",
       "    </tr>\n",
       "    <tr>\n",
       "      <th>5783107</th>\n",
       "      <td>4</td>\n",
       "      <td>F</td>\n",
       "      <td>1</td>\n",
       "      <td>1</td>\n",
       "      <td>1</td>\n",
       "      <td>2</td>\n",
       "      <td>0</td>\n",
       "      <td>3</td>\n",
       "      <td>1.0</td>\n",
       "      <td>0</td>\n",
       "    </tr>\n",
       "    <tr>\n",
       "      <th>5783108</th>\n",
       "      <td>2</td>\n",
       "      <td>F</td>\n",
       "      <td>1</td>\n",
       "      <td>3</td>\n",
       "      <td>1</td>\n",
       "      <td>2</td>\n",
       "      <td>0</td>\n",
       "      <td>2</td>\n",
       "      <td>1.0</td>\n",
       "      <td>0</td>\n",
       "    </tr>\n",
       "  </tbody>\n",
       "</table>\n",
       "<p>5783109 rows × 10 columns</p>\n",
       "</div>"
      ],
      "text/plain": [
       "         TP_FAIXA_ETARIA TP_SEXO  TP_ESTADO_CIVIL  TP_COR_RACA  \\\n",
       "0                     11       F                1            2   \n",
       "1                     11       M                2            3   \n",
       "2                      4       F                2            3   \n",
       "3                      2       M                1            3   \n",
       "4                      4       F                1            3   \n",
       "...                  ...     ...              ...          ...   \n",
       "5783104                2       F                1            1   \n",
       "5783105                3       M                1            1   \n",
       "5783106                3       F                1            1   \n",
       "5783107                4       F                1            1   \n",
       "5783108                2       F                1            3   \n",
       "\n",
       "         TP_NACIONALIDADE  TP_ST_CONCLUSAO  TP_ANO_CONCLUIU  TP_ESCOLA  \\\n",
       "0                       1                1               11          1   \n",
       "1                       1                1               11          1   \n",
       "2                       2                2                0          2   \n",
       "3                       1                2                0          2   \n",
       "4                       2                1                1          1   \n",
       "...                   ...              ...              ...        ...   \n",
       "5783104                 1                2                0          2   \n",
       "5783105                 1                2                0          2   \n",
       "5783106                 1                1                1          1   \n",
       "5783107                 1                2                0          3   \n",
       "5783108                 1                2                0          2   \n",
       "\n",
       "         TP_ENSINO  IN_TREINEIRO  \n",
       "0              NaN             0  \n",
       "1              NaN             0  \n",
       "2              1.0             0  \n",
       "3              1.0             0  \n",
       "4              NaN             0  \n",
       "...            ...           ...  \n",
       "5783104        1.0             0  \n",
       "5783105        1.0             0  \n",
       "5783106        NaN             0  \n",
       "5783107        1.0             0  \n",
       "5783108        1.0             0  \n",
       "\n",
       "[5783109 rows x 10 columns]"
      ]
     },
     "execution_count": 11,
     "metadata": {},
     "output_type": "execute_result"
    }
   ],
   "source": [
    "dfParticipantes.drop('NU_INSCRICAO', axis=1)"
   ]
  },
  {
   "cell_type": "markdown",
   "id": "7381bc87-2f20-4222-b1bc-47dc57b57913",
   "metadata": {},
   "source": [
    "##### GÊNERO\n",
    "A maioria dos participantes é do sexo feminino, esse gênero representa quase 60% dos participantes."
   ]
  },
  {
   "cell_type": "code",
   "execution_count": 12,
   "id": "73db1836-bf62-46cb-bab7-e5610cfb3d09",
   "metadata": {},
   "outputs": [
    {
     "data": {
      "text/plain": [
       "0"
      ]
     },
     "execution_count": 12,
     "metadata": {},
     "output_type": "execute_result"
    }
   ],
   "source": [
    "dfParticipantes['TP_SEXO'].isnull().sum()"
   ]
  },
  {
   "cell_type": "code",
   "execution_count": 13,
   "id": "9553b7f8-b30d-456b-a19d-f0a06b53e1ae",
   "metadata": {},
   "outputs": [],
   "source": [
    "totalParticipantes = dfParticipantes.shape[0]"
   ]
  },
  {
   "cell_type": "code",
   "execution_count": 14,
   "id": "2368de26-47ee-463c-8451-a1999901d86f",
   "metadata": {},
   "outputs": [
    {
     "name": "stdout",
     "output_type": "stream",
     "text": [
      "F    3468805\n",
      "M    2314304\n",
      "Name: TP_SEXO, dtype: int64\n",
      "59.98%\n",
      "40.02%\n"
     ]
    }
   ],
   "source": [
    "print(dfParticipantes['TP_SEXO'].value_counts())\n",
    "for i in dfParticipantes['TP_SEXO'].value_counts():\n",
    "    print('{0:.2f}%'.format(i  * 100 / totalParticipantes))"
   ]
  },
  {
   "cell_type": "markdown",
   "id": "aeb80562-60ff-4bff-ab92-a185cceffed7",
   "metadata": {},
   "source": [
    "Quase 60% dos participantes da provam foram do sexo feminino."
   ]
  },
  {
   "cell_type": "code",
   "execution_count": 15,
   "id": "bf8f46b5-4a11-4a85-b12e-783c4fc97042",
   "metadata": {},
   "outputs": [
    {
     "data": {
      "image/png": "[encoded data removed]",
      "text/plain": [
       "<Figure size 864x576 with 1 Axes>"
      ]
     },
     "metadata": {},
     "output_type": "display_data"
    }
   ],
   "source": [
    "plt.ticklabel_format(style='plain', axis='y')\n",
    "sns.set(rc={'figure.figsize':(4,4)})\n",
    "dfSex = dfParticipantes['TP_SEXO'].value_counts()\n",
    "ax = sns.barplot(y=dfParticipantes['TP_SEXO'].value_counts(), x=dfSex.index, data=dfParticipantes, palette=\"Blues_d\")"
   ]
  },
  {
   "cell_type": "markdown",
   "id": "e870a52a-d807-430e-9bf6-e011fe47602b",
   "metadata": {},
   "source": [
    "#### FAIXA ETÁRIA\n",
    "No atributo faixa etária até o valor 10 (exceto 0) corresponde a valores únicos, por exemplo: \n",
    "* 1 = 17 anos;\n",
    "* 2 = 18 anos;\n",
    "* 3 = 29 anos;\n",
    "* etc..\n",
    "O valor 0 (zero) corresponde ao intervalo de idades menores que 17 anos, assim como a partir do valor 11 que também correspondem a intervalos de valoes:\n",
    "* 11 = Entre 26 a 30 anos;\n",
    "* 12 = Entre 31 a 35 anos;\n",
    "* 13 = Entre 36 a 40 anos;\n",
    "* Etc..\n",
    "<br/>\n",
    "Isso dificulta uma análise mais precisa. <br/>\n",
    "Após pegar somente os valores únicos e exibir o histograma, podemos observar que a distribuição não é normal. E faz sentido, pois de maneira geral, as pessoas que fazem a prova do ENEM são estudantes que recém se formaram no ensino médio e vão fazer a prova para tentarem ingressar no ensino superior."
   ]
  },
  {
   "cell_type": "code",
   "execution_count": 16,
   "id": "a429eb6e-dfbc-499f-9b27-c05ef0908caa",
   "metadata": {},
   "outputs": [
    {
     "data": {
      "image/png": "[encoded data removed]",
      "text/plain": [
       "<Figure size 864x576 with 1 Axes>"
      ]
     },
     "metadata": {},
     "output_type": "display_data"
    }
   ],
   "source": [
    "sns.set(rc={'figure.figsize':(12,8)})\n",
    "dfEtaria = dfParticipantes['TP_FAIXA_ETARIA'].value_counts()\n",
    "ax = sns.barplot(y=dfParticipantes['TP_FAIXA_ETARIA'].value_counts(), x=dfEtaria.index, data=dfParticipantes, palette=\"Blues_d\")"
   ]
  },
  {
   "cell_type": "code",
   "execution_count": 17,
   "id": "b6ddee09-2176-404f-bf89-d21c17ad9640",
   "metadata": {},
   "outputs": [
    {
     "name": "stderr",
     "output_type": "stream",
     "text": [
      "C:\\Users\\krupc\\anaconda3\\lib\\site-packages\\seaborn\\distributions.py:2619: FutureWarning: `distplot` is a deprecated function and will be removed in a future version. Please adapt your code to use either `displot` (a figure-level function with similar flexibility) or `histplot` (an axes-level function for histograms).\n",
      "  warnings.warn(msg, FutureWarning)\n"
     ]
    },
    {
     "data": {
      "text/plain": [
       "<AxesSubplot:xlabel='TP_FAIXA_ETARIA'>"
      ]
     },
     "execution_count": 17,
     "metadata": {},
     "output_type": "execute_result"
    },
    {
     "data": {
      "image/png": "[encoded data removed]",
      "text/plain": [
       "<Figure size 864x576 with 1 Axes>"
      ]
     },
     "metadata": {},
     "output_type": "display_data"
    }
   ],
   "source": [
    "agrupado = dfParticipantes.loc[dfParticipantes.TP_FAIXA_ETARIA <= 10, 'TP_FAIXA_ETARIA']\n",
    "map_idade = {\n",
    "    1: 16, 2: 17, 3: 18, 4: 19, 5: 20, 6: 21, 7: 22, 8: 23, 9: 24, 10: 25\n",
    "}\n",
    "\n",
    "agrupado = agrupado.map(map_idade)\n",
    "sns.distplot(agrupado, hist=True, bins=10, kde=False, hist_kws={'edgecolor': 'black'})"
   ]
  },
  {
   "cell_type": "markdown",
   "id": "40b0372b-5cd1-4f01-bef1-5e0686d21da2",
   "metadata": {},
   "source": [
    "#### COR RAÇA\n",
    "É possível notar que a grande maioria dos participantes está entre PARDO e BRANCO. De acordo com o IBGE a população esta é a população atual dividida por raça:\n",
    "<img src=\"https://educa.ibge.gov.br/images/cor_ou_raca_-_populacao_por_cor_ou_raca.png\">\n",
    "<br/>\n",
    "Analisando por essa tabela e pelo gráfico abaixo, a quantidade de participantes da prova por raça têm uma certa proporcionalidade."
   ]
  },
  {
   "cell_type": "code",
   "execution_count": 18,
   "id": "5ca0d6c0-8f80-40d1-b41c-eb5a13c42fb2",
   "metadata": {},
   "outputs": [],
   "source": [
    "map_raca = {\n",
    "    0 : 'Não declarado',\n",
    "    1 : 'Branca',\n",
    "    2 : 'Preta',\n",
    "    3 : 'Parda',\n",
    "    4 : 'Amarela',\n",
    "    5 : 'Indígena',\n",
    "}\n",
    "dfParticipantes['TP_COR_RACA'] = dfParticipantes['TP_COR_RACA'].map(map_raca)"
   ]
  },
  {
   "cell_type": "code",
   "execution_count": 19,
   "id": "9b691c55-2ebc-494d-970a-e37e8c9fab6f",
   "metadata": {},
   "outputs": [],
   "source": [
    "dfRaca = dfParticipantes['TP_COR_RACA'].value_counts()"
   ]
  },
  {
   "cell_type": "code",
   "execution_count": 20,
   "id": "fdd67813-3e4e-4271-ad3f-0f29418b38fa",
   "metadata": {},
   "outputs": [
    {
     "data": {
      "text/plain": [
       "Index(['Parda', 'Branca', 'Preta', 'Amarela', 'Não declarado', 'Indígena'], dtype='object')"
      ]
     },
     "execution_count": 20,
     "metadata": {},
     "output_type": "execute_result"
    }
   ],
   "source": [
    "dfRaca.index"
   ]
  },
  {
   "cell_type": "code",
   "execution_count": 21,
   "id": "5d09d4d0-399e-4d65-ab7c-c31b90bed381",
   "metadata": {},
   "outputs": [
    {
     "data": {
      "image/png": "[encoded data removed]",
      "text/plain": [
       "<Figure size 864x576 with 1 Axes>"
      ]
     },
     "metadata": {},
     "output_type": "display_data"
    }
   ],
   "source": [
    "plt.ticklabel_format(style='plain', axis='y')\n",
    "ax = sns.barplot(y=dfParticipantes['TP_COR_RACA'].value_counts(), x=dfRaca.index, data=dfParticipantes, palette=\"Blues_d\")"
   ]
  },
  {
   "cell_type": "markdown",
   "id": "647f2a51-2fcb-41ea-994f-e7c06511446d",
   "metadata": {},
   "source": [
    "#### ESTADO CIVIL\n",
    "Essa é uma informação com baixa confiabilidade, pois a quantidade de estado civil com o valor não informado é muito alta, está em terceiro no ranking."
   ]
  },
  {
   "cell_type": "code",
   "execution_count": 22,
   "id": "443ef8f7-f587-4109-b60b-ac45a12fb24e",
   "metadata": {},
   "outputs": [],
   "source": [
    "map_estadoCivil = {\n",
    "    0 : 'Não informado',\n",
    "    1 : 'Solteiro(a)',\n",
    "    2 : 'Casado(a)/Mora com o companheiro(a)',\n",
    "    3 : 'Divorciado(a)/Desquitado(a)/Separado(a)',\n",
    "    4 : 'Viúvo(a)'\n",
    "}\n",
    "dfParticipantes['TP_ESTADO_CIVIL'] = dfParticipantes['TP_ESTADO_CIVIL'].map(map_estadoCivil)\n",
    "\n",
    "dfEstadoCivil = dfParticipantes['TP_ESTADO_CIVIL'].value_counts()"
   ]
  },
  {
   "cell_type": "code",
   "execution_count": 23,
   "id": "63cd6996-c667-4202-952e-ce584bd3d533",
   "metadata": {},
   "outputs": [
    {
     "data": {
      "text/plain": [
       "Solteiro(a)                                4851310\n",
       "Casado(a)/Mora com o companheiro(a)         527734\n",
       "Não informado                               263848\n",
       "Divorciado(a)/Desquitado(a)/Separado(a)     131423\n",
       "Viúvo(a)                                      8794\n",
       "Name: TP_ESTADO_CIVIL, dtype: int64"
      ]
     },
     "execution_count": 23,
     "metadata": {},
     "output_type": "execute_result"
    }
   ],
   "source": [
    "dfEstadoCivil"
   ]
  },
  {
   "cell_type": "code",
   "execution_count": 24,
   "id": "893fcd0f-1cd2-4b77-bed3-7399701d7761",
   "metadata": {},
   "outputs": [
    {
     "data": {
      "image/png": "[encoded data removed]",
      "text/plain": [
       "<Figure size 864x576 with 1 Axes>"
      ]
     },
     "metadata": {},
     "output_type": "display_data"
    }
   ],
   "source": [
    "plt.ticklabel_format(style='plain', axis='x')\n",
    "ax = sns.barplot(x=dfEstadoCivil, y=dfEstadoCivil.index, data=dfParticipantes, palette=\"Blues_d\")"
   ]
  },
  {
   "cell_type": "markdown",
   "id": "8e665bae-1ffd-434f-aa59-40af92a2d90a",
   "metadata": {},
   "source": [
    "#### ANO DE CONCLUSÃO DO ENSINO MÉDIO\n",
    "Em termos gerais, a maioria dos participantes do ENEM já concluiram o Ensino médio."
   ]
  },
  {
   "cell_type": "code",
   "execution_count": 25,
   "id": "dcd763e9-b07b-4adf-8b61-4c3fc8697073",
   "metadata": {},
   "outputs": [],
   "source": [
    "map_conclusaoEM = {\n",
    "    0: 'Não informado',\n",
    "    1: '2019',\n",
    "    2: '2018',\n",
    "    3: '2017',\n",
    "    4: '2016',\n",
    "    5: '2015',\n",
    "    6: '2014',\n",
    "    7: '2013',\n",
    "    8: '2012',\n",
    "    9: '2011',\n",
    "    10: '2010',\n",
    "    11: '2009',\n",
    "    12: '2008',\n",
    "    13: '2007',\n",
    "    14: 'Antes de 2007'\n",
    "}\n",
    "\n",
    "dfParticipantes['TP_ANO_CONCLUIU'] = dfParticipantes['TP_ANO_CONCLUIU'].map(map_conclusaoEM)"
   ]
  },
  {
   "cell_type": "code",
   "execution_count": 26,
   "id": "502e2090-d2b4-40d6-8945-14b08bb3d0ea",
   "metadata": {},
   "outputs": [],
   "source": [
    "dfConclusaoEM = dfParticipantes['TP_ANO_CONCLUIU'].value_counts()"
   ]
  },
  {
   "cell_type": "code",
   "execution_count": 27,
   "id": "5fccbfb0-c8bd-468b-9736-6ca2495920c5",
   "metadata": {},
   "outputs": [
    {
     "data": {
      "text/plain": [
       "Não informado    2524990\n",
       "2019              646471\n",
       "Antes de 2007     487510\n",
       "2018              437387\n",
       "2017              338872\n",
       "2016              252946\n",
       "2015              211802\n",
       "2014              176866\n",
       "2013              147981\n",
       "2012              129561\n",
       "2011              104847\n",
       "2010               98218\n",
       "2009               86531\n",
       "2008               71876\n",
       "2007               67251\n",
       "Name: TP_ANO_CONCLUIU, dtype: int64"
      ]
     },
     "execution_count": 27,
     "metadata": {},
     "output_type": "execute_result"
    }
   ],
   "source": [
    "dfConclusaoEM"
   ]
  },
  {
   "cell_type": "code",
   "execution_count": 28,
   "id": "154cfde5-d6b0-4fbc-97c1-c299b83ee4c9",
   "metadata": {},
   "outputs": [
    {
     "data": {
      "image/png": "[encoded data removed]",
      "text/plain": [
       "<Figure size 864x576 with 1 Axes>"
      ]
     },
     "metadata": {},
     "output_type": "display_data"
    }
   ],
   "source": [
    "plt.ticklabel_format(style='plain', axis='x')\n",
    "ax = sns.barplot(x=dfConclusaoEM, y=dfConclusaoEM.index, data=dfParticipantes, palette=\"Blues_d\")"
   ]
  },
  {
   "cell_type": "code",
   "execution_count": 29,
   "id": "be69916d-f6d0-497b-84c8-117118b73c5b",
   "metadata": {},
   "outputs": [],
   "source": [
    "map_situacaoEM = {\n",
    "    1: 'Já concluí o Ensino Médio',\n",
    "    2: 'Estou cursando e concluirei o Ensino Médio em 2020',\n",
    "    3: 'Estou cursando e concluirei o Ensino Médio após 2020',\n",
    "    4: 'Não concluí e não estou cursando o Ensino Médio'\n",
    "}\n",
    "\n",
    "dfParticipantes['TP_ST_CONCLUSAO'] = dfParticipantes['TP_ST_CONCLUSAO'].map(map_situacaoEM)\n",
    "dfSituacaoEM = dfParticipantes['TP_ST_CONCLUSAO'].value_counts()"
   ]
  },
  {
   "cell_type": "code",
   "execution_count": 30,
   "id": "a8ef76ed-12de-4d2e-8bdf-8eea0b3035d8",
   "metadata": {},
   "outputs": [
    {
     "data": {
      "text/plain": [
       "Já concluí o Ensino Médio                               3794279\n",
       "Estou cursando e concluirei o Ensino Médio em 2020      1395827\n",
       "Estou cursando e concluirei o Ensino Médio após 2020     557425\n",
       "Não concluí e não estou cursando o Ensino Médio           35578\n",
       "Name: TP_ST_CONCLUSAO, dtype: int64"
      ]
     },
     "execution_count": 30,
     "metadata": {},
     "output_type": "execute_result"
    }
   ],
   "source": [
    "dfSituacaoEM"
   ]
  },
  {
   "cell_type": "code",
   "execution_count": 31,
   "id": "241d05a9-3eca-4d13-bd91-8e51704c8a36",
   "metadata": {},
   "outputs": [
    {
     "data": {
      "image/png": "[encoded data removed]",
      "text/plain": [
       "<Figure size 864x576 with 1 Axes>"
      ]
     },
     "metadata": {},
     "output_type": "display_data"
    }
   ],
   "source": [
    "plt.pie(dfParticipantes['TP_ST_CONCLUSAO'].value_counts(), labels = dfSituacaoEM.index)\n",
    "plt.show()"
   ]
  },
  {
   "cell_type": "markdown",
   "id": "7bda719b-abc8-4dec-be3a-b8cffc8900f4",
   "metadata": {},
   "source": [
    "#### TIPO DA ESCOLA DO ENSINO MÉDIO"
   ]
  },
  {
   "cell_type": "code",
   "execution_count": 32,
   "id": "bc094deb-8bd2-43f9-9772-e8df46e6e2bf",
   "metadata": {},
   "outputs": [],
   "source": [
    "map_tpEscola = {\n",
    "    1: 'Não Respondeu',\n",
    "    2: 'Pública',\n",
    "    3: 'Privada',\n",
    "    4: 'Exterior'\n",
    "}\n",
    "\n",
    "dfParticipantes['TP_ESCOLA'] = dfParticipantes['TP_ESCOLA'].map(map_tpEscola)\n",
    "dfTpEscola = dfParticipantes['TP_ESCOLA'].value_counts()"
   ]
  },
  {
   "cell_type": "code",
   "execution_count": 33,
   "id": "3edc9fe6-75ac-456f-b7ab-16f5b2147921",
   "metadata": {},
   "outputs": [
    {
     "data": {
      "text/plain": [
       "Não Respondeu    4387282\n",
       "Pública          1194496\n",
       "Privada           201331\n",
       "Name: TP_ESCOLA, dtype: int64"
      ]
     },
     "execution_count": 33,
     "metadata": {},
     "output_type": "execute_result"
    }
   ],
   "source": [
    "dfTpEscola"
   ]
  },
  {
   "cell_type": "code",
   "execution_count": null,
   "id": "3ea1a0c9-6e26-4238-a6a2-3515bf4450a1",
   "metadata": {},
   "outputs": [],
   "source": []
  },
  {
   "cell_type": "code",
   "execution_count": null,
   "id": "9021ed33-a2fc-4b6b-a705-acd2a014b309",
   "metadata": {},
   "outputs": [],
   "source": []
  }
 ],
 "metadata": {
  "kernelspec": {
   "display_name": "Python 3 (ipykernel)",
   "language": "python",
   "name": "python3"
  },
  "language_info": {
   "codemirror_mode": {
    "name": "ipython",
    "version": 3
   },
   "file_extension": ".py",
   "mimetype": "text/x-python",
   "name": "python",
   "nbconvert_exporter": "python",
   "pygments_lexer": "ipython3",
   "version": "3.9.7"
  }
 },
 "nbformat": 4,
 "nbformat_minor": 5
}
